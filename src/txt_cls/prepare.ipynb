{
 "cells": [
  {
   "cell_type": "code",
   "execution_count": 14,
   "metadata": {},
   "outputs": [],
   "source": [
    "import pandas as pd\n",
    "from sklearn.model_selection import train_test_split\n",
    "import ujson as json"
   ]
  },
  {
   "cell_type": "code",
   "execution_count": 15,
   "metadata": {},
   "outputs": [],
   "source": [
    "rawDataDf = pd.read_csv(\"/home/alextay96/Desktop/all_workspace/personal_workspace/segment_ocr_payslip/data/example - example.csv\")"
   ]
  },
  {
   "cell_type": "code",
   "execution_count": 16,
   "metadata": {},
   "outputs": [],
   "source": [
    "rawDataDf = rawDataDf[[\"content\", \"label\"]]"
   ]
  },
  {
   "cell_type": "code",
   "execution_count": 17,
   "metadata": {},
   "outputs": [
    {
     "data": {
      "text/plain": [
       "employeeName_value    209\n",
       "companyName_key       202\n",
       "IC_key                112\n",
       "netPay_value          108\n",
       "IC_value              108\n",
       "employeeName_key      107\n",
       "payDate_key           105\n",
       "payDate_value         104\n",
       "employeeId_key        102\n",
       "reject                101\n",
       "employeeId_value      100\n",
       "companyName_value      99\n",
       "netPay_key             98\n",
       "Name: label, dtype: int64"
      ]
     },
     "execution_count": 17,
     "metadata": {},
     "output_type": "execute_result"
    }
   ],
   "source": [
    "rawDataDf[\"label\"].value_counts()"
   ]
  },
  {
   "cell_type": "code",
   "execution_count": 18,
   "metadata": {},
   "outputs": [],
   "source": [
    "excludeCls = [\"employeeId_value\", \"employeeId_key\"]\n",
    "rawDataDf = rawDataDf[~rawDataDf[\"label\"].isin(excludeCls)]"
   ]
  },
  {
   "cell_type": "code",
   "execution_count": 19,
   "metadata": {},
   "outputs": [],
   "source": [
    "rawDataDf.rename(columns={\"content\" : 'text'}, inplace=True)"
   ]
  },
  {
   "cell_type": "code",
   "execution_count": 20,
   "metadata": {},
   "outputs": [
    {
     "data": {
      "text/html": [
       "<div>\n",
       "<style scoped>\n",
       "    .dataframe tbody tr th:only-of-type {\n",
       "        vertical-align: middle;\n",
       "    }\n",
       "\n",
       "    .dataframe tbody tr th {\n",
       "        vertical-align: top;\n",
       "    }\n",
       "\n",
       "    .dataframe thead th {\n",
       "        text-align: right;\n",
       "    }\n",
       "</style>\n",
       "<table border=\"1\" class=\"dataframe\">\n",
       "  <thead>\n",
       "    <tr style=\"text-align: right;\">\n",
       "      <th></th>\n",
       "      <th>text</th>\n",
       "      <th>label</th>\n",
       "    </tr>\n",
       "  </thead>\n",
       "  <tbody>\n",
       "    <tr>\n",
       "      <th>0</th>\n",
       "      <td>MICRO MART</td>\n",
       "      <td>companyName_value</td>\n",
       "    </tr>\n",
       "    <tr>\n",
       "      <th>1</th>\n",
       "      <td>SwipeWire</td>\n",
       "      <td>companyName_value</td>\n",
       "    </tr>\n",
       "    <tr>\n",
       "      <th>2</th>\n",
       "      <td>SecureSmarter</td>\n",
       "      <td>companyName_value</td>\n",
       "    </tr>\n",
       "    <tr>\n",
       "      <th>3</th>\n",
       "      <td>Dwellsmith</td>\n",
       "      <td>companyName_value</td>\n",
       "    </tr>\n",
       "    <tr>\n",
       "      <th>4</th>\n",
       "      <td>SalePush</td>\n",
       "      <td>companyName_value</td>\n",
       "    </tr>\n",
       "    <tr>\n",
       "      <th>...</th>\n",
       "      <td>...</td>\n",
       "      <td>...</td>\n",
       "    </tr>\n",
       "    <tr>\n",
       "      <th>1550</th>\n",
       "      <td>710908-NM-0341</td>\n",
       "      <td>IC_value</td>\n",
       "    </tr>\n",
       "    <tr>\n",
       "      <th>1551</th>\n",
       "      <td>070208-TY-1849</td>\n",
       "      <td>IC_value</td>\n",
       "    </tr>\n",
       "    <tr>\n",
       "      <th>1552</th>\n",
       "      <td>030204-MK-6127</td>\n",
       "      <td>IC_value</td>\n",
       "    </tr>\n",
       "    <tr>\n",
       "      <th>1553</th>\n",
       "      <td>681227-ZD-9085</td>\n",
       "      <td>IC_value</td>\n",
       "    </tr>\n",
       "    <tr>\n",
       "      <th>1554</th>\n",
       "      <td>950127-II-5689</td>\n",
       "      <td>IC_value</td>\n",
       "    </tr>\n",
       "  </tbody>\n",
       "</table>\n",
       "<p>1353 rows × 2 columns</p>\n",
       "</div>"
      ],
      "text/plain": [
       "                text              label\n",
       "0         MICRO MART  companyName_value\n",
       "1          SwipeWire  companyName_value\n",
       "2      SecureSmarter  companyName_value\n",
       "3         Dwellsmith  companyName_value\n",
       "4           SalePush  companyName_value\n",
       "...              ...                ...\n",
       "1550  710908-NM-0341           IC_value\n",
       "1551  070208-TY-1849           IC_value\n",
       "1552  030204-MK-6127           IC_value\n",
       "1553  681227-ZD-9085           IC_value\n",
       "1554  950127-II-5689           IC_value\n",
       "\n",
       "[1353 rows x 2 columns]"
      ]
     },
     "execution_count": 20,
     "metadata": {},
     "output_type": "execute_result"
    }
   ],
   "source": [
    "rawDataDf"
   ]
  },
  {
   "cell_type": "code",
   "execution_count": 21,
   "metadata": {},
   "outputs": [
    {
     "data": {
      "text/plain": [
       "{'companyName_value': 0,\n",
       " 'companyName_key': 1,\n",
       " 'employeeName_key': 2,\n",
       " 'IC_key': 3,\n",
       " 'employeeName_value': 4,\n",
       " 'payDate_key': 5,\n",
       " 'payDate_value': 6,\n",
       " 'netPay_key': 7,\n",
       " 'netPay_value': 8,\n",
       " 'reject': 9,\n",
       " 'IC_value': 10}"
      ]
     },
     "execution_count": 21,
     "metadata": {},
     "output_type": "execute_result"
    }
   ],
   "source": [
    "catMapping = {}\n",
    "for i , l in enumerate(rawDataDf[\"label\"].unique().tolist()):\n",
    "    catMapping[l] = i\n",
    "catMapping"
   ]
  },
  {
   "cell_type": "code",
   "execution_count": 22,
   "metadata": {},
   "outputs": [],
   "source": [
    "rawDataDf[\"label_id\"] = rawDataDf[\"label\"].apply(lambda x : catMapping[x])"
   ]
  },
  {
   "cell_type": "code",
   "execution_count": 23,
   "metadata": {},
   "outputs": [],
   "source": [
    "evalDf = rawDataDf.groupby(\"label\").sample(frac=0.2)\n",
    "\n",
    "trainDf = rawDataDf[~rawDataDf[\"text\"].isin(evalDf[\"text\"])]\n",
    "assert set(trainDf[\"text\"].tolist()).isdisjoint(evalDf[\"text\"].tolist())"
   ]
  },
  {
   "cell_type": "code",
   "execution_count": 24,
   "metadata": {},
   "outputs": [],
   "source": [
    "trainDf.to_csv(\"train.csv\")\n",
    "evalDf.to_csv(\"eval.csv\")\n"
   ]
  },
  {
   "cell_type": "code",
   "execution_count": 25,
   "metadata": {},
   "outputs": [
    {
     "data": {
      "text/plain": [
       "employeeName_value    42\n",
       "companyName_key       40\n",
       "IC_key                22\n",
       "IC_value              22\n",
       "netPay_value          22\n",
       "employeeName_key      21\n",
       "payDate_key           21\n",
       "payDate_value         21\n",
       "companyName_value     20\n",
       "netPay_key            20\n",
       "reject                20\n",
       "Name: label, dtype: int64"
      ]
     },
     "execution_count": 25,
     "metadata": {},
     "output_type": "execute_result"
    }
   ],
   "source": [
    "evalDf[\"label\"].value_counts()"
   ]
  },
  {
   "cell_type": "code",
   "execution_count": null,
   "metadata": {},
   "outputs": [],
   "source": []
  },
  {
   "cell_type": "code",
   "execution_count": 26,
   "metadata": {},
   "outputs": [],
   "source": [
    "trainDf.to_json(path_or_buf=\"train.json\", orient=\"records\")\n",
    "evalDf.to_json(path_or_buf=\"eval.json\",orient=\"records\")\n",
    "\n",
    "# with open(\"train.json\", \"w\") as f:\n",
    "#     json.dumps(trainJson, f, indent=4) \n",
    "# with open(\"test.json\", \"w\") as f:\n",
    "#     json.dumps(evalJson, f, indent=4) "
   ]
  },
  {
   "cell_type": "code",
   "execution_count": 27,
   "metadata": {},
   "outputs": [
    {
     "data": {
      "text/plain": [
       "4     209\n",
       "1     202\n",
       "3     112\n",
       "8     108\n",
       "10    108\n",
       "2     107\n",
       "5     105\n",
       "6     104\n",
       "9     101\n",
       "0      99\n",
       "7      98\n",
       "Name: label_id, dtype: int64"
      ]
     },
     "execution_count": 27,
     "metadata": {},
     "output_type": "execute_result"
    }
   ],
   "source": [
    "rawDataDf[\"label_id\"].value_counts()"
   ]
  },
  {
   "cell_type": "code",
   "execution_count": null,
   "metadata": {},
   "outputs": [],
   "source": []
  }
 ],
 "metadata": {
  "kernelspec": {
   "display_name": "base",
   "language": "python",
   "name": "python3"
  },
  "language_info": {
   "codemirror_mode": {
    "name": "ipython",
    "version": 3
   },
   "file_extension": ".py",
   "mimetype": "text/x-python",
   "name": "python",
   "nbconvert_exporter": "python",
   "pygments_lexer": "ipython3",
   "version": "3.9.13"
  },
  "orig_nbformat": 4,
  "vscode": {
   "interpreter": {
    "hash": "75b583ea8ca4d9719011ea1e5a9807941a1fb7d546d8e87323332da157394190"
   }
  }
 },
 "nbformat": 4,
 "nbformat_minor": 2
}
